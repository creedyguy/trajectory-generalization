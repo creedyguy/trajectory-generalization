
#class for the object points
class p:
    #it has two variables x and y
    def __init__(self,x,y):

        self.x = x
        self.y = y
    #function to compute distance
    def distance(self,p):
        return ((p.x-self.x)^2+(p.y-self.y)^2)^0.5
    
    
#class group has two values : list of elements ans a centroid
class group:

    def __init__(self):

        self.memebers=[]
        self.centroid= None

#getting mins and from a list of points
def get_mins_and_max(points):
    xmin = points[0].x
    xmax = points[0].x
    ymin = points[0].y
    ymax = points[0].y

    for point in points:
        if point.x < xmin:
            xmin = point.x
        if point.y < ymin:
            ymin = point.y
        if point.x > xmax:
            xmax = point.x
        if point.y > ymax:
            ymax = point.y

    return xmin,xmax,ymin,ymax

#class grid has al elements ans functions necessary to manipulate the grid
class grid:
    def __init__(self,xmin,xmax,ymin,ymax,maxradius):
        self.xmin = xmin
        self.xmax = xmax
        self.ymin = ymin
        self.ymax = ymax
        self.maxradius =maxradius
        self.nrows= int((ymax-ymin)/maxradius)+1
        self.ncl=int((xmax-xmin)/maxradius)+1

        xstep=(xmax-xmin)/maxradius
        ystep=(ymax-ymin)/maxradius
        self.gridd = []
        for i in range(self.nrows):
            aux=[]
            for j in range(self.ncl):
                aux.append([])

            self.gridd.append(aux)
    #function that allows to get the position of a point inside the grid
    def get_grid_position(self,p):
        i=int((p.x-self.xmin)/self.nrows)
        j = int((p.y - self.ymin) / self.ncl)

        return i,j
    #this fuction allows to fill the grid from a set of points
    def fill_grid(self,points):
        
        for p in points:
            i,j=self.get_grid_position(p)
            self.gridd[i][j].append(p)
    #remove a point from the the grid
    def remove(self,point):
        
        i,j=self.get_grid_position(point)
        self.gridd[i][j].remove(point)
    

#get the centroid of a group of points
def get_centroid(points):
    x=[]
    y=[]
    for pp in points:
        x.append(pp.x)
        y.append(pp.y)
        
    pr=p(mean(x),mean(y))
    return pr
   
def put_in_proper_group(p,r ,grd):
    
    c=get_closest_centroid(p,grd)
    
    if c==None:
        g=group()
        g.memebers=[p]
        g.centroid=p
        r.append(g)

    else:
        for i in R:
            if i.centroid==c:
                g=i
                g.memebers.append(p)
                grd.remove(c)
                g.centroid=get_centroid(i.memebers)
                
    i,j=grd.get_grid_position(g.centroid)
    grd.gridd[i][j].append(g)

def get_closest_centroid(point,grid):
    i,j=grid.get_grid_position(point)
    
    C=[]
    
    for k in range(max(i-1,1),min(i+1,grid.nrows)):
        for m in range(max(j - 1, 1), min(j + 1, grid.ncl)):
            for c in grid.gridd[i][j]:
                distance=point.distance(p)
                if distance < grid.maxradius:
                    C.append(c)
    if C==[]:
        return None
    else:
        return get_closest_centroid2(point,C)
        
        

def get_closest_centroid2(point,centroids):

    closest=centroids[0]
    for c in centroids:
        if c.distance(point) < closest.distance(point):
            closest=c
    return closest
    
        

def redistributePoints(pp,rr,gg):
    for group in rr:
        group.memebers=[]
    
    for p in pp:
        c=get_closest_centroid(p,gg)
        
        for g in rr:
            if g.centroid==c:
                g.memebers.append(p)
                break
            

#the Main function 
def problem2(points, maxRadius):
    
    xmin, xmax, ymin, ymax= get_mins_and_max(points)
    
    grd=grid(xmin, xmax, ymin, ymax,maxRadius)
    
    R=[]
    
    for p in points:
        
        put_in_proper_group(p,R,grd)
    
    redistributePoints(p,R,grd)
    
    return R
pts=[(-0.1007951, 51.4962126),
(-0.1008312, 51.4962605),
(-0.1007988, 51.4962209),
(-0.1048798, 51.4985476),
(-0.1009904, 51.4960043),
(-0.1058634, 51.498699)]

points=[]
maxradius=0.0005
R=[]

for pp in pts:
    aux=p(pp[0],pp[1])
    points.append(aux)

xmin,xmax,ymin,ymax=get_mins_and_max(points)
print(xmin,xmax,ymin,ymax)

grd=grid(xmin,xmax,ymin,ymax,maxradius)
print(grd.gridd[0])

for pp in points:
    put_in_proper_group(pp,R,grd)

for g in R:
    print('Centroid:',g.centroid.x,g.centroid.y)
    print('Members:')
    for pg in g.memebers:
        print('     ',pg.x,pg.y)
        print(' ')
    
