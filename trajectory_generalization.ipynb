{
 "cells": [
  {
   "cell_type": "code",
   "execution_count": 2,
   "metadata": {},
   "outputs": [],
   "source": [
    "import movingpandas as mp # needed to delete line calling contextily from trajectory.py\n",
    "from datetime import datetime\n",
    "import numpy as np\n",
    "import pandas as pd\n",
    "import matplotlib.pyplot as plt\n",
    "from matplotlib.colors import rgb2hex\n",
    "import geopandas as gpd\n",
    "from shapely.geometry import Point, Polygon\n",
    "import warnings\n",
    "import matplotlib.pyplot as plt\n",
    "import descartes\n",
    "import pyproj\n",
    "\n",
    "plt.rcParams['axes.xmargin'] = 0.1\n",
    "plt.rcParams['axes.ymargin'] = 0.1\n",
    "%matplotlib inline \n",
    "warnings.filterwarnings('ignore')\n",
    "pd.set_option('display.float_format', lambda x: '%.3f' % x)"
   ]
  },
  {
   "cell_type": "markdown",
   "metadata": {},
   "source": [
    "## Reading the data sample data\n",
    "\n",
    "The data corresponds to the records of one user. The data I am going to use in my project has data for different users. I divided this data into three different users just to make it more similar to the data I will use."
   ]
  },
  {
   "cell_type": "code",
   "execution_count": 3,
   "metadata": {},
   "outputs": [
    {
     "data": {
      "text/html": [
       "<div>\n",
       "<style scoped>\n",
       "    .dataframe tbody tr th:only-of-type {\n",
       "        vertical-align: middle;\n",
       "    }\n",
       "\n",
       "    .dataframe tbody tr th {\n",
       "        vertical-align: top;\n",
       "    }\n",
       "\n",
       "    .dataframe thead th {\n",
       "        text-align: right;\n",
       "    }\n",
       "</style>\n",
       "<table border=\"1\" class=\"dataframe\">\n",
       "  <thead>\n",
       "    <tr style=\"text-align: right;\">\n",
       "      <th></th>\n",
       "      <th>trID</th>\n",
       "      <th>trN</th>\n",
       "      <th>pIdx</th>\n",
       "      <th>X</th>\n",
       "      <th>Y</th>\n",
       "      <th>time</th>\n",
       "      <th>duration</th>\n",
       "    </tr>\n",
       "  </thead>\n",
       "  <tbody>\n",
       "    <tr>\n",
       "      <th>0</th>\n",
       "      <td>a</td>\n",
       "      <td>1</td>\n",
       "      <td>1</td>\n",
       "      <td>7.213</td>\n",
       "      <td>50.772</td>\n",
       "      <td>04/12/2006 19:14:41</td>\n",
       "      <td>0</td>\n",
       "    </tr>\n",
       "    <tr>\n",
       "      <th>1</th>\n",
       "      <td>a</td>\n",
       "      <td>1</td>\n",
       "      <td>2</td>\n",
       "      <td>7.213</td>\n",
       "      <td>50.772</td>\n",
       "      <td>04/12/2006 19:14:45</td>\n",
       "      <td>0</td>\n",
       "    </tr>\n",
       "    <tr>\n",
       "      <th>2</th>\n",
       "      <td>a</td>\n",
       "      <td>1</td>\n",
       "      <td>3</td>\n",
       "      <td>7.212</td>\n",
       "      <td>50.772</td>\n",
       "      <td>04/12/2006 19:14:51</td>\n",
       "      <td>0</td>\n",
       "    </tr>\n",
       "    <tr>\n",
       "      <th>3</th>\n",
       "      <td>a</td>\n",
       "      <td>1</td>\n",
       "      <td>4</td>\n",
       "      <td>7.212</td>\n",
       "      <td>50.772</td>\n",
       "      <td>04/12/2006 19:14:55</td>\n",
       "      <td>0</td>\n",
       "    </tr>\n",
       "    <tr>\n",
       "      <th>4</th>\n",
       "      <td>a</td>\n",
       "      <td>1</td>\n",
       "      <td>5</td>\n",
       "      <td>7.211</td>\n",
       "      <td>50.771</td>\n",
       "      <td>04/12/2006 19:15:00</td>\n",
       "      <td>0</td>\n",
       "    </tr>\n",
       "  </tbody>\n",
       "</table>\n",
       "</div>"
      ],
      "text/plain": [
       "  trID  trN  pIdx     X      Y                 time  duration\n",
       "0    a    1     1 7.213 50.772  04/12/2006 19:14:41         0\n",
       "1    a    1     2 7.213 50.772  04/12/2006 19:14:45         0\n",
       "2    a    1     3 7.212 50.772  04/12/2006 19:14:51         0\n",
       "3    a    1     4 7.212 50.772  04/12/2006 19:14:55         0\n",
       "4    a    1     5 7.211 50.771  04/12/2006 19:15:00         0"
      ]
     },
     "execution_count": 3,
     "metadata": {},
     "output_type": "execute_result"
    }
   ],
   "source": [
    "# read the sample data\n",
    "gps = pd.read_csv('./sample_data/traj_full.csv')\n",
    "gps.head()"
   ]
  },
  {
   "cell_type": "code",
   "execution_count": 21,
   "metadata": {},
   "outputs": [
    {
     "data": {
      "text/plain": [
       "(112537, 9)"
      ]
     },
     "execution_count": 21,
     "metadata": {},
     "output_type": "execute_result"
    }
   ],
   "source": [
    "gps = gps.sort_values(by=['trID', 'time'])\n",
    "gps['date_time'] = pd.to_datetime(gps['time'])\n",
    "gps.shape"
   ]
  },
  {
   "cell_type": "code",
   "execution_count": 22,
   "metadata": {},
   "outputs": [],
   "source": [
    "# Here I create three users A, B and C\n",
    "ids = np.array([\"A\", \"B\", \"C\"])\n",
    "gps['user_id'] = np.repeat(ids, [37000, 37000, 38537], axis=0)"
   ]
  },
  {
   "cell_type": "code",
   "execution_count": 6,
   "metadata": {},
   "outputs": [
    {
     "data": {
      "text/html": [
       "<div>\n",
       "<style scoped>\n",
       "    .dataframe tbody tr th:only-of-type {\n",
       "        vertical-align: middle;\n",
       "    }\n",
       "\n",
       "    .dataframe tbody tr th {\n",
       "        vertical-align: top;\n",
       "    }\n",
       "\n",
       "    .dataframe thead th {\n",
       "        text-align: right;\n",
       "    }\n",
       "</style>\n",
       "<table border=\"1\" class=\"dataframe\">\n",
       "  <thead>\n",
       "    <tr style=\"text-align: right;\">\n",
       "      <th></th>\n",
       "      <th>trID</th>\n",
       "      <th>trN</th>\n",
       "      <th>pIdx</th>\n",
       "      <th>X</th>\n",
       "      <th>Y</th>\n",
       "      <th>time</th>\n",
       "      <th>duration</th>\n",
       "      <th>user_id</th>\n",
       "      <th>geometry</th>\n",
       "    </tr>\n",
       "    <tr>\n",
       "      <th>date_time</th>\n",
       "      <th></th>\n",
       "      <th></th>\n",
       "      <th></th>\n",
       "      <th></th>\n",
       "      <th></th>\n",
       "      <th></th>\n",
       "      <th></th>\n",
       "      <th></th>\n",
       "      <th></th>\n",
       "    </tr>\n",
       "  </thead>\n",
       "  <tbody>\n",
       "    <tr>\n",
       "      <th>2007-01-01 14:40:36</th>\n",
       "      <td>a</td>\n",
       "      <td>1</td>\n",
       "      <td>8745</td>\n",
       "      <td>7.203</td>\n",
       "      <td>50.780</td>\n",
       "      <td>01/01/2007 14:40:36</td>\n",
       "      <td>0</td>\n",
       "      <td>A</td>\n",
       "      <td>POINT (7.202585000000001 50.779636)</td>\n",
       "    </tr>\n",
       "    <tr>\n",
       "      <th>2007-01-01 14:40:39</th>\n",
       "      <td>a</td>\n",
       "      <td>1</td>\n",
       "      <td>8746</td>\n",
       "      <td>7.203</td>\n",
       "      <td>50.780</td>\n",
       "      <td>01/01/2007 14:40:39</td>\n",
       "      <td>0</td>\n",
       "      <td>A</td>\n",
       "      <td>POINT (7.20273 50.779854)</td>\n",
       "    </tr>\n",
       "    <tr>\n",
       "      <th>2007-01-01 14:40:43</th>\n",
       "      <td>a</td>\n",
       "      <td>1</td>\n",
       "      <td>8747</td>\n",
       "      <td>7.203</td>\n",
       "      <td>50.780</td>\n",
       "      <td>01/01/2007 14:40:43</td>\n",
       "      <td>0</td>\n",
       "      <td>A</td>\n",
       "      <td>POINT (7.202917 50.78012)</td>\n",
       "    </tr>\n",
       "    <tr>\n",
       "      <th>2007-01-01 14:40:46</th>\n",
       "      <td>a</td>\n",
       "      <td>1</td>\n",
       "      <td>8748</td>\n",
       "      <td>7.203</td>\n",
       "      <td>50.780</td>\n",
       "      <td>01/01/2007 14:40:46</td>\n",
       "      <td>0</td>\n",
       "      <td>A</td>\n",
       "      <td>POINT (7.203072 50.78035999999999)</td>\n",
       "    </tr>\n",
       "    <tr>\n",
       "      <th>2007-01-01 14:40:49</th>\n",
       "      <td>a</td>\n",
       "      <td>1</td>\n",
       "      <td>8749</td>\n",
       "      <td>7.203</td>\n",
       "      <td>50.781</td>\n",
       "      <td>01/01/2007 14:40:49</td>\n",
       "      <td>0</td>\n",
       "      <td>A</td>\n",
       "      <td>POINT (7.203155000000001 50.78064000000001)</td>\n",
       "    </tr>\n",
       "  </tbody>\n",
       "</table>\n",
       "</div>"
      ],
      "text/plain": [
       "                    trID  trN  pIdx     X      Y                 time  \\\n",
       "date_time                                                               \n",
       "2007-01-01 14:40:36    a    1  8745 7.203 50.780  01/01/2007 14:40:36   \n",
       "2007-01-01 14:40:39    a    1  8746 7.203 50.780  01/01/2007 14:40:39   \n",
       "2007-01-01 14:40:43    a    1  8747 7.203 50.780  01/01/2007 14:40:43   \n",
       "2007-01-01 14:40:46    a    1  8748 7.203 50.780  01/01/2007 14:40:46   \n",
       "2007-01-01 14:40:49    a    1  8749 7.203 50.781  01/01/2007 14:40:49   \n",
       "\n",
       "                     duration user_id  \\\n",
       "date_time                               \n",
       "2007-01-01 14:40:36         0       A   \n",
       "2007-01-01 14:40:39         0       A   \n",
       "2007-01-01 14:40:43         0       A   \n",
       "2007-01-01 14:40:46         0       A   \n",
       "2007-01-01 14:40:49         0       A   \n",
       "\n",
       "                                                        geometry  \n",
       "date_time                                                         \n",
       "2007-01-01 14:40:36          POINT (7.202585000000001 50.779636)  \n",
       "2007-01-01 14:40:39                    POINT (7.20273 50.779854)  \n",
       "2007-01-01 14:40:43                    POINT (7.202917 50.78012)  \n",
       "2007-01-01 14:40:46           POINT (7.203072 50.78035999999999)  \n",
       "2007-01-01 14:40:49  POINT (7.203155000000001 50.78064000000001)  "
      ]
     },
     "execution_count": 6,
     "metadata": {},
     "output_type": "execute_result"
    }
   ],
   "source": [
    "# I converted the timestamp to datetime class and assigned it as the index of the pandas dataframe \n",
    "trips = gps.set_index('date_time')\n",
    "lon_lat = [Point(xy) for xy in zip(trips.X, trips.Y)]\n",
    "crs = {'init': 'epsg:4326'}\n",
    "trips = gpd.GeoDataFrame(trips, crs=crs, geometry=lon_lat)\n",
    "trips.head()"
   ]
  },
  {
   "cell_type": "code",
   "execution_count": 8,
   "metadata": {},
   "outputs": [
    {
     "data": {
      "text/html": [
       "<div>\n",
       "<style scoped>\n",
       "    .dataframe tbody tr th:only-of-type {\n",
       "        vertical-align: middle;\n",
       "    }\n",
       "\n",
       "    .dataframe tbody tr th {\n",
       "        vertical-align: top;\n",
       "    }\n",
       "\n",
       "    .dataframe thead th {\n",
       "        text-align: right;\n",
       "    }\n",
       "</style>\n",
       "<table border=\"1\" class=\"dataframe\">\n",
       "  <thead>\n",
       "    <tr style=\"text-align: right;\">\n",
       "      <th></th>\n",
       "      <th>trID</th>\n",
       "      <th>trN</th>\n",
       "      <th>pIdx</th>\n",
       "      <th>X</th>\n",
       "      <th>Y</th>\n",
       "      <th>time</th>\n",
       "      <th>duration</th>\n",
       "      <th>user_id</th>\n",
       "      <th>geometry</th>\n",
       "    </tr>\n",
       "    <tr>\n",
       "      <th>date_time</th>\n",
       "      <th></th>\n",
       "      <th></th>\n",
       "      <th></th>\n",
       "      <th></th>\n",
       "      <th></th>\n",
       "      <th></th>\n",
       "      <th></th>\n",
       "      <th></th>\n",
       "      <th></th>\n",
       "    </tr>\n",
       "  </thead>\n",
       "  <tbody>\n",
       "    <tr>\n",
       "      <th>2007-01-01 14:40:36</th>\n",
       "      <td>a</td>\n",
       "      <td>1</td>\n",
       "      <td>8745</td>\n",
       "      <td>7.203</td>\n",
       "      <td>50.780</td>\n",
       "      <td>01/01/2007 14:40:36</td>\n",
       "      <td>0</td>\n",
       "      <td>A</td>\n",
       "      <td>POINT (7.202585000000001 50.779636)</td>\n",
       "    </tr>\n",
       "    <tr>\n",
       "      <th>2007-01-01 14:40:39</th>\n",
       "      <td>a</td>\n",
       "      <td>1</td>\n",
       "      <td>8746</td>\n",
       "      <td>7.203</td>\n",
       "      <td>50.780</td>\n",
       "      <td>01/01/2007 14:40:39</td>\n",
       "      <td>0</td>\n",
       "      <td>A</td>\n",
       "      <td>POINT (7.20273 50.779854)</td>\n",
       "    </tr>\n",
       "    <tr>\n",
       "      <th>2007-01-01 14:40:43</th>\n",
       "      <td>a</td>\n",
       "      <td>1</td>\n",
       "      <td>8747</td>\n",
       "      <td>7.203</td>\n",
       "      <td>50.780</td>\n",
       "      <td>01/01/2007 14:40:43</td>\n",
       "      <td>0</td>\n",
       "      <td>A</td>\n",
       "      <td>POINT (7.202917 50.78012)</td>\n",
       "    </tr>\n",
       "    <tr>\n",
       "      <th>2007-01-01 14:40:46</th>\n",
       "      <td>a</td>\n",
       "      <td>1</td>\n",
       "      <td>8748</td>\n",
       "      <td>7.203</td>\n",
       "      <td>50.780</td>\n",
       "      <td>01/01/2007 14:40:46</td>\n",
       "      <td>0</td>\n",
       "      <td>A</td>\n",
       "      <td>POINT (7.203072 50.78035999999999)</td>\n",
       "    </tr>\n",
       "    <tr>\n",
       "      <th>2007-01-01 14:40:49</th>\n",
       "      <td>a</td>\n",
       "      <td>1</td>\n",
       "      <td>8749</td>\n",
       "      <td>7.203</td>\n",
       "      <td>50.781</td>\n",
       "      <td>01/01/2007 14:40:49</td>\n",
       "      <td>0</td>\n",
       "      <td>A</td>\n",
       "      <td>POINT (7.203155000000001 50.78064000000001)</td>\n",
       "    </tr>\n",
       "  </tbody>\n",
       "</table>\n",
       "</div>"
      ],
      "text/plain": [
       "                    trID  trN  pIdx     X      Y                 time  \\\n",
       "date_time                                                               \n",
       "2007-01-01 14:40:36    a    1  8745 7.203 50.780  01/01/2007 14:40:36   \n",
       "2007-01-01 14:40:39    a    1  8746 7.203 50.780  01/01/2007 14:40:39   \n",
       "2007-01-01 14:40:43    a    1  8747 7.203 50.780  01/01/2007 14:40:43   \n",
       "2007-01-01 14:40:46    a    1  8748 7.203 50.780  01/01/2007 14:40:46   \n",
       "2007-01-01 14:40:49    a    1  8749 7.203 50.781  01/01/2007 14:40:49   \n",
       "\n",
       "                     duration user_id  \\\n",
       "date_time                               \n",
       "2007-01-01 14:40:36         0       A   \n",
       "2007-01-01 14:40:39         0       A   \n",
       "2007-01-01 14:40:43         0       A   \n",
       "2007-01-01 14:40:46         0       A   \n",
       "2007-01-01 14:40:49         0       A   \n",
       "\n",
       "                                                        geometry  \n",
       "date_time                                                         \n",
       "2007-01-01 14:40:36          POINT (7.202585000000001 50.779636)  \n",
       "2007-01-01 14:40:39                    POINT (7.20273 50.779854)  \n",
       "2007-01-01 14:40:43                    POINT (7.202917 50.78012)  \n",
       "2007-01-01 14:40:46           POINT (7.203072 50.78035999999999)  \n",
       "2007-01-01 14:40:49  POINT (7.203155000000001 50.78064000000001)  "
      ]
     },
     "execution_count": 8,
     "metadata": {},
     "output_type": "execute_result"
    }
   ],
   "source": [
    "# to make everything faster I just selected the first 300 observations for each user\n",
    "trips = trips.groupby('user_id').head(300)\n",
    "trips.head()"
   ]
  },
  {
   "cell_type": "markdown",
   "metadata": {},
   "source": [
    "## Create Linestrings\n",
    "\n",
    "Here I use the movingpandas library from Anita Graser. Basically, I create a trajectory per user with all their GPS points"
   ]
  },
  {
   "cell_type": "code",
   "execution_count": 9,
   "metadata": {},
   "outputs": [
    {
     "name": "stdout",
     "output_type": "stream",
     "text": [
      "Finished creating 1 trajectories in 0:00:00.003790\n",
      "Finished creating 2 trajectories in 0:00:00.004787\n",
      "Finished creating 3 trajectories in 0:00:00.045849\n"
     ]
    }
   ],
   "source": [
    "t_start = datetime.now()\n",
    "trajectories = []\n",
    "for key, values in trips.groupby(['user_id']):\n",
    "    trajectory = mp.Trajectory(key, values)\n",
    "    trajectories.append(trajectory)\n",
    "    print(\"Finished creating {} trajectories in {}\".format(len(trajectories), datetime.now() - t_start))  "
   ]
  },
  {
   "cell_type": "markdown",
   "metadata": {},
   "source": [
    "### How does the trajectory object looks like?"
   ]
  },
  {
   "cell_type": "code",
   "execution_count": 37,
   "metadata": {},
   "outputs": [
    {
     "name": "stdout",
     "output_type": "stream",
     "text": [
      "Trajectory A (2007-01-01 14:40:36 to 2007-01-02 09:38:31) | Size: 300 | Length: 8848.2m\n",
      "Bounds: (7.19689, 50.75238, 7.218432000000001, 50.794907)\n",
      "LINESTRING (7.202585000000001 50.779636, 7.20273 50.779854, 7.202917 50.78012, 7.203072 50.780359999\n"
     ]
    }
   ],
   "source": [
    "print(trajectories[0])"
   ]
  },
  {
   "cell_type": "code",
   "execution_count": 50,
   "metadata": {},
   "outputs": [
    {
     "data": {
      "text/html": [
       "<div>\n",
       "<style scoped>\n",
       "    .dataframe tbody tr th:only-of-type {\n",
       "        vertical-align: middle;\n",
       "    }\n",
       "\n",
       "    .dataframe tbody tr th {\n",
       "        vertical-align: top;\n",
       "    }\n",
       "\n",
       "    .dataframe thead th {\n",
       "        text-align: right;\n",
       "    }\n",
       "</style>\n",
       "<table border=\"1\" class=\"dataframe\">\n",
       "  <thead>\n",
       "    <tr style=\"text-align: right;\">\n",
       "      <th></th>\n",
       "      <th>trID</th>\n",
       "      <th>trN</th>\n",
       "      <th>pIdx</th>\n",
       "      <th>X</th>\n",
       "      <th>Y</th>\n",
       "      <th>time</th>\n",
       "      <th>duration</th>\n",
       "      <th>user_id</th>\n",
       "      <th>geometry</th>\n",
       "    </tr>\n",
       "    <tr>\n",
       "      <th>date_time</th>\n",
       "      <th></th>\n",
       "      <th></th>\n",
       "      <th></th>\n",
       "      <th></th>\n",
       "      <th></th>\n",
       "      <th></th>\n",
       "      <th></th>\n",
       "      <th></th>\n",
       "      <th></th>\n",
       "    </tr>\n",
       "  </thead>\n",
       "  <tbody>\n",
       "    <tr>\n",
       "      <th>2007-01-01 14:40:36</th>\n",
       "      <td>a</td>\n",
       "      <td>1</td>\n",
       "      <td>8745</td>\n",
       "      <td>7.203</td>\n",
       "      <td>50.780</td>\n",
       "      <td>01/01/2007 14:40:36</td>\n",
       "      <td>0</td>\n",
       "      <td>A</td>\n",
       "      <td>POINT (7.202585000000001 50.779636)</td>\n",
       "    </tr>\n",
       "    <tr>\n",
       "      <th>2007-01-01 14:40:39</th>\n",
       "      <td>a</td>\n",
       "      <td>1</td>\n",
       "      <td>8746</td>\n",
       "      <td>7.203</td>\n",
       "      <td>50.780</td>\n",
       "      <td>01/01/2007 14:40:39</td>\n",
       "      <td>0</td>\n",
       "      <td>A</td>\n",
       "      <td>POINT (7.20273 50.779854)</td>\n",
       "    </tr>\n",
       "    <tr>\n",
       "      <th>2007-01-01 14:40:43</th>\n",
       "      <td>a</td>\n",
       "      <td>1</td>\n",
       "      <td>8747</td>\n",
       "      <td>7.203</td>\n",
       "      <td>50.780</td>\n",
       "      <td>01/01/2007 14:40:43</td>\n",
       "      <td>0</td>\n",
       "      <td>A</td>\n",
       "      <td>POINT (7.202917 50.78012)</td>\n",
       "    </tr>\n",
       "    <tr>\n",
       "      <th>2007-01-01 14:40:46</th>\n",
       "      <td>a</td>\n",
       "      <td>1</td>\n",
       "      <td>8748</td>\n",
       "      <td>7.203</td>\n",
       "      <td>50.780</td>\n",
       "      <td>01/01/2007 14:40:46</td>\n",
       "      <td>0</td>\n",
       "      <td>A</td>\n",
       "      <td>POINT (7.203072 50.78035999999999)</td>\n",
       "    </tr>\n",
       "    <tr>\n",
       "      <th>2007-01-01 14:40:49</th>\n",
       "      <td>a</td>\n",
       "      <td>1</td>\n",
       "      <td>8749</td>\n",
       "      <td>7.203</td>\n",
       "      <td>50.781</td>\n",
       "      <td>01/01/2007 14:40:49</td>\n",
       "      <td>0</td>\n",
       "      <td>A</td>\n",
       "      <td>POINT (7.203155000000001 50.78064000000001)</td>\n",
       "    </tr>\n",
       "  </tbody>\n",
       "</table>\n",
       "</div>"
      ],
      "text/plain": [
       "                    trID  trN  pIdx     X      Y                 time  \\\n",
       "date_time                                                               \n",
       "2007-01-01 14:40:36    a    1  8745 7.203 50.780  01/01/2007 14:40:36   \n",
       "2007-01-01 14:40:39    a    1  8746 7.203 50.780  01/01/2007 14:40:39   \n",
       "2007-01-01 14:40:43    a    1  8747 7.203 50.780  01/01/2007 14:40:43   \n",
       "2007-01-01 14:40:46    a    1  8748 7.203 50.780  01/01/2007 14:40:46   \n",
       "2007-01-01 14:40:49    a    1  8749 7.203 50.781  01/01/2007 14:40:49   \n",
       "\n",
       "                     duration user_id  \\\n",
       "date_time                               \n",
       "2007-01-01 14:40:36         0       A   \n",
       "2007-01-01 14:40:39         0       A   \n",
       "2007-01-01 14:40:43         0       A   \n",
       "2007-01-01 14:40:46         0       A   \n",
       "2007-01-01 14:40:49         0       A   \n",
       "\n",
       "                                                        geometry  \n",
       "date_time                                                         \n",
       "2007-01-01 14:40:36          POINT (7.202585000000001 50.779636)  \n",
       "2007-01-01 14:40:39                    POINT (7.20273 50.779854)  \n",
       "2007-01-01 14:40:43                    POINT (7.202917 50.78012)  \n",
       "2007-01-01 14:40:46           POINT (7.203072 50.78035999999999)  \n",
       "2007-01-01 14:40:49  POINT (7.203155000000001 50.78064000000001)  "
      ]
     },
     "execution_count": 50,
     "metadata": {},
     "output_type": "execute_result"
    }
   ],
   "source": [
    "# the trajectory is stroed as a linestring and also as regular dataframe with columns and rows\n",
    "# trajectory as dataframe\n",
    "trajectories[0].df.head()"
   ]
  },
  {
   "cell_type": "code",
   "execution_count": 51,
   "metadata": {},
   "outputs": [
    {
     "data": {
      "text/plain": [
       "[(7.202585000000001, 50.779635999999996),\n",
       " (7.20273, 50.779854),\n",
       " (7.202917, 50.780120000000004),\n",
       " (7.203072, 50.780359999999995),\n",
       " (7.203155000000001, 50.780640000000005),\n",
       " (7.203102, 50.780945),\n",
       " (7.202978, 50.781254),\n",
       " (7.20287, 50.781544),\n",
       " (7.202797, 50.78188)]"
      ]
     },
     "execution_count": 51,
     "metadata": {},
     "output_type": "execute_result"
    }
   ],
   "source": [
    "# trajectory as linestring\n",
    "# Get the first lon lat coordiantes of the trajectory\n",
    "trajectories[0].to_linestring().coords[0:9]"
   ]
  },
  {
   "cell_type": "code",
   "execution_count": 52,
   "metadata": {},
   "outputs": [
    {
     "data": {
      "text/plain": [
       "<matplotlib.axes._subplots.AxesSubplot at 0x1e6c49f5748>"
      ]
     },
     "execution_count": 52,
     "metadata": {},
     "output_type": "execute_result"
    },
    {
     "data": {
      "image/png": "[encoded data removed]",
      "text/plain": [
       "<Figure size 432x288 with 1 Axes>"
      ]
     },
     "metadata": {
      "needs_background": "light"
     },
     "output_type": "display_data"
    }
   ],
   "source": [
    "# How doe slook like the trajectory of user 0 (user A)\n",
    "trajectories[0].plot()"
   ]
  },
  {
   "cell_type": "code",
   "execution_count": 57,
   "metadata": {},
   "outputs": [
    {
     "data": {
      "text/plain": [
       "date_time\n",
       "2007-01-01 14:40:36            POINT (7.202585000000001 50.779636)\n",
       "2007-01-01 14:40:39                      POINT (7.20273 50.779854)\n",
       "2007-01-01 14:40:43                      POINT (7.202917 50.78012)\n",
       "2007-01-01 14:40:46             POINT (7.203072 50.78035999999999)\n",
       "2007-01-01 14:40:49    POINT (7.203155000000001 50.78064000000001)\n",
       "Name: geometry, dtype: object"
      ]
     },
     "execution_count": 57,
     "metadata": {},
     "output_type": "execute_result"
    }
   ],
   "source": [
    "# I can also extract the coordiantes in WKT format (i.e POINT(7.202585000000001 50.779636))\n",
    "trajectories[0].df.geometry.head()"
   ]
  },
  {
   "cell_type": "code",
   "execution_count": 59,
   "metadata": {},
   "outputs": [
    {
     "data": {
      "text/plain": [
       "300"
      ]
     },
     "execution_count": 59,
     "metadata": {},
     "output_type": "execute_result"
    }
   ],
   "source": [
    "# an easy way to count the number of points in the trajectory\n",
    "trajectories[0].df.geometry.count()"
   ]
  },
  {
   "cell_type": "code",
   "execution_count": 60,
   "metadata": {},
   "outputs": [],
   "source": [
    "# specify projection for calculating spatial distances with proj library\n",
    "geod = pyproj.Geod(ellps='WGS84')"
   ]
  },
  {
   "cell_type": "markdown",
   "metadata": {},
   "source": [
    "## Extract charactheristics points\n",
    "\n",
    "This corresponds to algorithm 1 in Andrienko's paper."
   ]
  },
  {
   "cell_type": "code",
   "execution_count": 61,
   "metadata": {},
   "outputs": [],
   "source": [
    "# Extract charactheristic points\n",
    "# distance parameters are specified in meters, stop duration in seconds, \n",
    "# and angles in degrees. \n",
    "# The characteristic points should contain start and end locations, as well as turns and stop locations:\n",
    "class Analyzer:\n",
    "    def __init__(self,traj, max_distance, min_distance, min_stop_duration, min_angle = 45):\n",
    "        self.i = 0 # initializing the indices\n",
    "        self.j = 1\n",
    "        self.k = 2\n",
    "        self.traj = traj # corresponds to the input of the algorithm,the trajectory object of each user\n",
    "        self.n = self.traj.df.geometry.count() # I do this to get the number of points/GPS records of the trajectory\n",
    "        self.max_distance = max_distance # parameter that I need to specify\n",
    "        self.min_distance = min_distance # parameter that I need to specify\n",
    "        self.min_stop_duration = min_stop_duration # parameter that I need to specify\n",
    "        self.min_angle = min_angle # parameter that I need to specify\n",
    "        self.last_point_index = int(traj.df.geometry.count() - 1) # to obtain the index of the last coord of the trajectory\n",
    "        # Below I obtain extract the first significant points of the trajectory, that is, the first and last lon lat coordiantes\n",
    "        self.significant_points = [self.traj.to_linestring().coords[0],self.traj.to_linestring().coords[self.last_point_index]]\n",
    "    \n",
    "    # Start of algorithm ------------------------------------------------\n",
    "    def find_significant_points(self): # this is the algorithm\n",
    "        \n",
    "        while self.j < self.n-1:\n",
    "            \n",
    "            #print(self.j)\n",
    "            \n",
    "            # function is_representative_max_distance is defined below the while loop, as well as the rest of the \n",
    "            # helper functions\n",
    "            if self.is_representative_max_distance(): \n",
    "                #print(\"representative max distance at {0}\".format(self.j))\n",
    "                # with traj.to_linestring().coords[int(self.j)] I extract the jth coord of the trajectory\n",
    "                self.significant_points.append(self.traj.to_linestring().coords[int(self.j)])\n",
    "                # update the indices\n",
    "                self.i = self.j\n",
    "                self.j = self.i + 1\n",
    "                # I commented out continue statement, doesnt seem to make any difference\n",
    "                #continue \n",
    "                \n",
    "            elif self.more_points_further_than_min_distance():\n",
    "                if self.k > self.j + 1: \n",
    "                    # d_time equal to difference in seconds between point k-1 and point j\n",
    "                    d_time = (self.traj.df.index[int(self.k-1)] - self.traj.df.index[int(self.j)]).total_seconds()\n",
    "                    if d_time >= self.min_stop_duration: \n",
    "                        #print(\"significant stop ({1}) at {0}\".format(self.j,d_time))\n",
    "                        self.significant_points.append(self.traj.to_linestring().coords[int(self.j)])\n",
    "                        self.i = self.j\n",
    "                        self.j = self.k\n",
    "                        #continue \n",
    "                    else:\n",
    "                        # compute the average spatial position to represent the similar points\n",
    "                        # Here I have a doubt, if I divide self.j + (self.k-1-self.j) by 2, sometimes the \n",
    "                        # result will not be an integer. Then, when I update the j index and try to use \n",
    "                        # it for accesing the jth element of a trajectory, it will return an error. Thats why\n",
    "                        # I decided to use integer division, so the return number is always an integer.\n",
    "                        m = self.j + (self.k-1-self.j)//2 # had to use // instead of /\n",
    "                        self.j = m # what is this m for?\n",
    "                \n",
    "                a_turn = self.compute_angle_between_vectors()\n",
    "                #print(\"{0}: {1}\".format(self.j,a_turn))\n",
    "                if a_turn >= self.min_angle and a_turn <= (360-self.min_angle):\n",
    "                    #print(\"significant angle ({0}) at {1}\".format(a_turn,self.j))\n",
    "                    self.significant_points.append(self.traj.to_linestring().coords[int(self.j)])\n",
    "                    self.i = self.j\n",
    "                    self.j = self.k\n",
    "                else:\n",
    "                    self.j += 1\n",
    "                        \n",
    "            else:\n",
    "                return self.significant_points\n",
    "        \n",
    "        return self.significant_points\n",
    "    # end of algorithm ------------------------------------------------------------\n",
    "   \n",
    "    # here the helper functions that are called in the algorithm are defined.\n",
    "    def compute_angle_between_vectors(self):\n",
    "        # p_i = the ith point/lon lat coordiante of the trajectory e.g. (7.201938, 50.793915000000005)\n",
    "        # I obtain the jth an kth coordiantes of the trajectory as well\n",
    "        p_i = self.traj.to_linestring().coords[int(self.i)] \n",
    "        p_j = self.traj.to_linestring().coords[int(self.j)]\n",
    "        p_k = self.traj.to_linestring().coords[int(self.k)]\n",
    "        # I calculate the azimuth between point i and j. \n",
    "        # geod.inv returns three values, in the first position is the forward azimuth, in second position back azimuth\n",
    "        # and in third position the distance. Here I just return the forward azimuth between point i and j\n",
    "        azimuth_ij = geod.inv(p_i[0], p_i[1], p_j[0], p_j[1])[0] # in position 0 is azimuth 1 in position 2 is the distance. \n",
    "        \n",
    "        # the same for point j and k\n",
    "        azimuth_jk = geod.inv(p_j[0], p_j[1], p_k[0], p_k[1])[0]\n",
    "        #print(\"{0} - {1}\".format(azimuth_ij,azimuth_jk))\n",
    "        # return absolute difference\n",
    "        return abs(azimuth_ij - azimuth_jk) \n",
    "    \n",
    "    def more_points_further_than_min_distance(self):\n",
    "        for self.k in range(self.j+1,self.n):\n",
    "            # get point j and k\n",
    "            p_j = self.traj.to_linestring().coords[int(self.j)]\n",
    "            p_k = self.traj.to_linestring().coords[int(self.k)]\n",
    "            # calculate distance between both points\n",
    "            d_space_j_k = geod.inv(p_j[0], p_j[1], p_k[0], p_k[1])[2]\n",
    "            if d_space_j_k >= self.min_distance:\n",
    "                return True\n",
    "        return False\n",
    "        \n",
    "    def is_representative_max_distance(self):\n",
    "        # I guess this is self explanatory now\n",
    "        p_i = self.traj.to_linestring().coords[int(self.i)]\n",
    "        p_j = self.traj.to_linestring().coords[int(self.j)]\n",
    "        d_space = geod.inv(p_i[0], p_i[1], p_j[0], p_j[1])[2]\n",
    "        \n",
    "        if d_space >= self.max_distance:\n",
    "            self.significant_points.append(p_i)\n",
    "            return True\n",
    "        else:\n",
    "            return False"
   ]
  },
  {
   "cell_type": "code",
   "execution_count": 62,
   "metadata": {},
   "outputs": [],
   "source": [
    "# Here i use class Analyzer defiend in previous step to extract the charactheristic points of each trajectory\n",
    "significant_points = []\n",
    "for line in trajectories:\n",
    "    a = Analyzer(traj = line, max_distance = 1000, min_distance = 100, min_stop_duration = 300, min_angle = 45)\n",
    "    significant_points = significant_points + a.find_significant_points()"
   ]
  },
  {
   "cell_type": "code",
   "execution_count": 63,
   "metadata": {},
   "outputs": [
    {
     "name": "stdout",
     "output_type": "stream",
     "text": [
      "Number of significant points: 72\n"
     ]
    }
   ],
   "source": [
    "print(\"Number of significant points: {0}\".format(len(significant_points)))"
   ]
  },
  {
   "cell_type": "code",
   "execution_count": 22,
   "metadata": {},
   "outputs": [
    {
     "data": {
      "text/plain": [
       "[(7.218432000000001, 50.75238),\n",
       " (7.203697, 50.783398),\n",
       " (7.197188000000001, 50.785156),\n",
       " (7.205189999999999, 50.79135),\n",
       " (7.200433, 50.794785),\n",
       " (7.20483, 50.791313),\n",
       " (7.19689, 50.785121999999994),\n",
       " (7.200432000000001, 50.784508),\n",
       " (7.1990419999999995, 50.781673)]"
      ]
     },
     "execution_count": 22,
     "metadata": {},
     "output_type": "execute_result"
    }
   ],
   "source": [
    "significant_points[1:10]"
   ]
  },
  {
   "cell_type": "code",
   "execution_count": 36,
   "metadata": {},
   "outputs": [],
   "source": [
    "# Write significant points to csv file\n",
    "out = open('significant_points.csv', 'w')\n",
    "for row in significant_points:\n",
    "    for column in row:\n",
    "        out.write('{0},'.format(column))\n",
    "    out.write('\\n')\n",
    "out.close()"
   ]
  },
  {
   "cell_type": "markdown",
   "metadata": {},
   "source": [
    "## Group Points in Space"
   ]
  },
  {
   "cell_type": "code",
   "execution_count": null,
   "metadata": {},
   "outputs": [],
   "source": []
  },
  {
   "cell_type": "code",
   "execution_count": null,
   "metadata": {},
   "outputs": [],
   "source": []
  },
  {
   "cell_type": "code",
   "execution_count": null,
   "metadata": {},
   "outputs": [],
   "source": []
  }
 ],
 "metadata": {
  "kernelspec": {
   "display_name": "Python [conda env:geo]",
   "language": "python",
   "name": "conda-env-geo-py"
  },
  "language_info": {
   "codemirror_mode": {
    "name": "ipython",
    "version": 3
   },
   "file_extension": ".py",
   "mimetype": "text/x-python",
   "name": "python",
   "nbconvert_exporter": "python",
   "pygments_lexer": "ipython3",
   "version": "3.7.1"
  }
 },
 "nbformat": 4,
 "nbformat_minor": 2
}
